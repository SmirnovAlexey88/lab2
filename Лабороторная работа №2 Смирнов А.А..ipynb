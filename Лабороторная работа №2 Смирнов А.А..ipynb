{
  "nbformat": 4,
  "nbformat_minor": 0,
  "metadata": {
    "colab": {
      "provenance": []
    },
    "kernelspec": {
      "name": "python3",
      "display_name": "Python 3"
    },
    "language_info": {
      "name": "python"
    }
  },
  "cells": [
    {
      "cell_type": "markdown",
      "source": [
        "Импортируется библиотека pandas для работы с данными.\n",
        "\n"
      ],
      "metadata": {
        "id": "KLjtH9gkM98y"
      }
    },
    {
      "cell_type": "code",
      "execution_count": null,
      "metadata": {
        "id": "9geYSo9fqvfV"
      },
      "outputs": [],
      "source": [
        "import pandas as pd"
      ]
    },
    {
      "cell_type": "markdown",
      "source": [
        "Загрузка данных для анализа"
      ],
      "metadata": {
        "id": "SuQS-wjwNB9K"
      }
    },
    {
      "cell_type": "code",
      "source": [
        "salary = pd.read_csv('https://github.com/ybifoundation/Dataset/raw/main/Salary%20Data.csv')"
      ],
      "metadata": {
        "id": "IyPp_Om_q1Qb"
      },
      "execution_count": null,
      "outputs": []
    },
    {
      "cell_type": "markdown",
      "source": [
        "Вывод содержания"
      ],
      "metadata": {
        "id": "La9DwXaONWSz"
      }
    },
    {
      "cell_type": "code",
      "source": [
        "salary.columns"
      ],
      "metadata": {
        "colab": {
          "base_uri": "https://localhost:8080/"
        },
        "id": "-S8evrWdq8B3",
        "outputId": "bac110a8-c7a3-48f0-ae9a-acbb9110bb51"
      },
      "execution_count": null,
      "outputs": [
        {
          "output_type": "execute_result",
          "data": {
            "text/plain": [
              "Index(['Experience Years', 'Salary'], dtype='object')"
            ]
          },
          "metadata": {},
          "execution_count": 4
        }
      ]
    },
    {
      "cell_type": "markdown",
      "source": [
        "Переменная y содержит целевую переменную (зарплату).\n",
        "\n",
        "Переменная X содержит предиктор (годы опыта)."
      ],
      "metadata": {
        "id": "s8dl1lEXNbfB"
      }
    },
    {
      "cell_type": "code",
      "source": [
        "y = salary['Salary']\n",
        "X = salary[['Experience Years']]"
      ],
      "metadata": {
        "id": "dx376lMrrD2N"
      },
      "execution_count": null,
      "outputs": []
    },
    {
      "cell_type": "markdown",
      "source": [
        "Используется train_test_split из sklearn.model_selection для разделения данных на обучающую (70%) и тестовую (30%) выборки.\n",
        "Устанавливается random_state для воспроизводимости результатов."
      ],
      "metadata": {
        "id": "FvDRw_ymNjDd"
      }
    },
    {
      "cell_type": "code",
      "source": [
        "from sklearn.model_selection import train_test_split\n",
        "X_train, X_test, y_train, y_test = train_test_split(X,y, train_size=0.7, random_state=2529)"
      ],
      "metadata": {
        "id": "FUhhlTtPrEgl"
      },
      "execution_count": null,
      "outputs": []
    },
    {
      "cell_type": "markdown",
      "source": [
        "Импортируется LinearRegression из sklearn.linear_model.\n",
        "\n",
        "Создается объект модели линейной регрессии.\n",
        "\n",
        "Модель обучается на обучающих данных с помощью метода fit."
      ],
      "metadata": {
        "id": "jo1FNboaNt9u"
      }
    },
    {
      "cell_type": "code",
      "source": [
        "from sklearn.linear_model import LinearRegression\n",
        "model = LinearRegression()\n",
        "model.fit(X_train,y_train)\n",
        "model.intercept_\n",
        "model.coef_\n"
      ],
      "metadata": {
        "id": "WeUv-HVerPGA",
        "colab": {
          "base_uri": "https://localhost:8080/"
        },
        "outputId": "84f1bd69-1cb0-45d0-ac52-a82ccacacce7"
      },
      "execution_count": null,
      "outputs": [
        {
          "output_type": "execute_result",
          "data": {
            "text/plain": [
              "array([9405.61663234])"
            ]
          },
          "metadata": {},
          "execution_count": 7
        }
      ]
    },
    {
      "cell_type": "markdown",
      "source": [
        "Модель используется для предсказания значений зарплаты на тестовой выборке с помощью метода predict. Результаты сохраняются в переменной y_pred."
      ],
      "metadata": {
        "id": "fXQH7V3rOgot"
      }
    },
    {
      "cell_type": "code",
      "source": [
        "y_pred = model.predict(X_test)\n",
        "ypred_2 =model.predict(X_train)\n",
        "y_pred\n"
      ],
      "metadata": {
        "colab": {
          "base_uri": "https://localhost:8080/"
        },
        "id": "Bhtb6HsaOXRk",
        "outputId": "e1dbccac-0e72-4808-a517-2021d70ba723"
      },
      "execution_count": null,
      "outputs": [
        {
          "output_type": "execute_result",
          "data": {
            "text/plain": [
              "array([ 90555.15441095,  59516.61952424, 106544.70268592,  64219.42784041,\n",
              "        68922.23615658, 123474.81262412,  84911.78443155,  63278.86617718,\n",
              "        65159.98950364,  61397.74285071,  37883.70126987,  50111.00289191])"
            ]
          },
          "metadata": {},
          "execution_count": 10
        }
      ]
    },
    {
      "cell_type": "markdown",
      "source": [
        "Импортируются метрики для оценки качества модели: mean_absolute_error, mean_absolute_percentage_error и mean_squared_error из sklearn.metrics.\n",
        "Рассчитываются и выводятся значения этих метрик для тестовой выборки:\n",
        "Mean Absolute Error (MAE): средняя абсолютная ошибка, показывающая среднее отклонение предсказанных значений от фактических.\n",
        "\n",
        "Mean Absolute Percentage Error (MAPE): средняя абсолютная процентная ошибка, показывающая среднее процентное отклонение предсказанных значений от фактических.\n",
        "\n",
        "Mean Squared Error (MSE): средняя квадратичная ошибка, показывающая среднее значение квадратов отклонений предсказанных значений от фактических."
      ],
      "metadata": {
        "id": "IuJSFUr9N5PP"
      }
    },
    {
      "cell_type": "code",
      "source": [
        "from sklearn.metrics import mean_absolute_error, mean_absolute_percentage_error, mean_squared_error\n",
        "mean_absolute_error(y_test,y_pred)\n",
        "mean_absolute_percentage_error(y_test,y_pred)\n",
        "mean_squared_error(y_test,y_pred)"
      ],
      "metadata": {
        "colab": {
          "base_uri": "https://localhost:8080/"
        },
        "id": "OAPsWsrWr0VG",
        "outputId": "ac24c173-01af-44f8-e056-fdd954eb84e9"
      },
      "execution_count": null,
      "outputs": [
        {
          "output_type": "execute_result",
          "data": {
            "text/plain": [
              "24141421.671440993"
            ]
          },
          "metadata": {},
          "execution_count": 11
        }
      ]
    },
    {
      "cell_type": "markdown",
      "source": [
        "Визуализация данных"
      ],
      "metadata": {
        "id": "NWhm3WWVOzfA"
      }
    },
    {
      "cell_type": "code",
      "source": [
        "import matplotlib.pyplot as plt\n"
      ],
      "metadata": {
        "id": "cQr0eeulr5Vx"
      },
      "execution_count": null,
      "outputs": []
    },
    {
      "cell_type": "markdown",
      "source": [
        "Создается график, на котором:\n",
        "Синими точками отображаются фактические значения зарплат в зависимости от лет опыта.\n",
        "\n",
        "Красной линией отображаются предсказанные значения зарплат на тестовой выборке."
      ],
      "metadata": {
        "id": "zxj3OnosPAR9"
      }
    },
    {
      "cell_type": "code",
      "source": [
        "plt.scatter(X,y,color='b')\n",
        "plt.plot(X_test,y_pred,color='r')\n",
        "plt.show()"
      ],
      "metadata": {
        "colab": {
          "base_uri": "https://localhost:8080/",
          "height": 430
        },
        "id": "gsy_lgDssJOi",
        "outputId": "8354de63-f2ef-4436-a965-b529b8bd6aaf"
      },
      "execution_count": null,
      "outputs": [
        {
          "output_type": "display_data",
          "data": {
            "text/plain": [
              "<Figure size 640x480 with 1 Axes>"
            ],
            "image/png": "[encoded data removed]"
          },
          "metadata": {}
        }
      ]
    },
    {
      "cell_type": "markdown",
      "source": [
        "1. Импорт библиотек:\n",
        "\n",
        "Импортируются необходимые библиотеки: numpy, pandas, sklearn для машинного обучения, а также matplotlib и seaborn для визуализации."
      ],
      "metadata": {
        "id": "8iI_1WC6TDvp"
      }
    },
    {
      "cell_type": "code",
      "source": [
        "import numpy as np\n",
        "import pandas as pd\n",
        "from sklearn.model_selection import train_test_split\n",
        "from sklearn.discriminant_analysis import LinearDiscriminantAnalysis\n",
        "from sklearn.metrics import classification_report, confusion_matrix\n",
        "import matplotlib.pyplot as plt\n",
        "import seaborn as sns"
      ],
      "metadata": {
        "id": "xtmhe9awspon"
      },
      "execution_count": 15,
      "outputs": []
    },
    {
      "cell_type": "markdown",
      "source": [
        "2. Загрузка данных:\n",
        "\n",
        "Загружается набор данных о рыбах из указанного URL с помощью pd.read_csv."
      ],
      "metadata": {
        "id": "f7bh-r2rTEPW"
      }
    },
    {
      "cell_type": "code",
      "source": [
        "data= pd.read_csv('https://raw.githubusercontent.com/YBIFoundation/Dataset/refs/heads/main/Fish.csv')"
      ],
      "metadata": {
        "id": "k74dxKq9PIo6"
      },
      "execution_count": 16,
      "outputs": []
    },
    {
      "cell_type": "markdown",
      "source": [
        "3. Подготовка данных:\n",
        "\n",
        "Извлекаются характеристики рыб: вес (Weight), длина (Length1), высота (Height), ширина (Width) и вид (Species).\n",
        "\n",
        "Создается массив param, который содержит значения всех характеристик рыб."
      ],
      "metadata": {
        "id": "_wnrK0RVTZZ6"
      }
    },
    {
      "cell_type": "code",
      "source": [
        "weight=data['Weight']\n",
        "length=data['Length1']\n",
        "height=data['Height']\n",
        "width=data['Width']\n",
        "sp=data['Species']\n",
        "species =sp.values\n",
        "param=np.array([weight.values,length.values,height.values,width.values]).T"
      ],
      "metadata": {
        "id": "qGZ7aee4SPlf"
      },
      "execution_count": 17,
      "outputs": []
    },
    {
      "cell_type": "markdown",
      "source": [
        "4. Разделение данных:\n",
        "\n",
        "Данные разделяются на обучающую (80%) и тестовую (20%) выборки с помощью train_test_split."
      ],
      "metadata": {
        "id": "xHbkDcWjTFRm"
      }
    },
    {
      "cell_type": "code",
      "source": [
        "X_train, X_test, y_train, y_test = train_test_split(param, species, test_size=0.2, random_state=42)\n"
      ],
      "metadata": {
        "id": "bBlEZU0VSaJL"
      },
      "execution_count": 27,
      "outputs": []
    },
    {
      "cell_type": "markdown",
      "source": [
        "5. Линейный дискриминантный анализ (LDA):\n",
        "\n",
        "Создается объект LDA и модель обучается на обучающих данных с помощью метода fit.\n",
        "\n",
        "Выполняется предсказание классов для тестовой выборки с помощью метода predict."
      ],
      "metadata": {
        "id": "_8jNTW2yTGgA"
      }
    },
    {
      "cell_type": "code",
      "source": [
        "lda = LinearDiscriminantAnalysis()\n",
        "lda.fit(X_train, y_train)\n",
        "y_pred = lda.predict(X_test)"
      ],
      "metadata": {
        "id": "7u2qwthOSeJN"
      },
      "execution_count": 30,
      "outputs": []
    },
    {
      "cell_type": "markdown",
      "source": [
        "6. Преобразование данных с помощью LDA:\n",
        "\n",
        "Данные преобразуются в новое пространство с помощью метода transform, что позволяет визуализировать данные в двумерном пространстве."
      ],
      "metadata": {
        "id": "rogiMiSRTHny"
      }
    },
    {
      "cell_type": "code",
      "source": [
        "X_lda = lda.transform(param)\n",
        "\n"
      ],
      "metadata": {
        "id": "mDdNAQYeSjEu"
      },
      "execution_count": 31,
      "outputs": []
    },
    {
      "cell_type": "markdown",
      "source": [
        "7. Визуализация результатов LDA:\n",
        "\n",
        "Создается график, на котором отображаются проекции данных на первых двух линейных дискриминантных компонентах (LD1 и LD2) с использованием seaborn."
      ],
      "metadata": {
        "id": "GttH41w2UQ-N"
      }
    },
    {
      "cell_type": "code",
      "source": [
        "# Визуализация\n",
        "plt.figure(figsize=(10, 6))\n",
        "sns.scatterplot(x=X_lda[:, 0], y=X_lda[:, 1], hue=species, palette='viridis', s=100)\n",
        "plt.title(\"Projection of Fish Dataset on LDA\")\n",
        "plt.xlabel(\"LD1\")\n",
        "plt.ylabel(\"LD2\")\n",
        "plt.show()"
      ],
      "metadata": {
        "colab": {
          "base_uri": "https://localhost:8080/",
          "height": 564
        },
        "id": "fFPyWR3-UPrG",
        "outputId": "4a35b8c3-78fc-4cf1-d2d6-d4216a2b5a7f"
      },
      "execution_count": 32,
      "outputs": [
        {
          "output_type": "display_data",
          "data": {
            "text/plain": [
              "<Figure size 1000x600 with 1 Axes>"
            ],
            "image/png": "[encoded data removed]"
          },
          "metadata": {}
        }
      ]
    },
    {
      "cell_type": "markdown",
      "source": [
        "8. Оценка качества модели LDA:\n",
        "\n",
        "Выводится матрица ошибок (confusion matrix) и отчет о классификации (classification report) для оценки качества предсказаний модели на тестовой выборке."
      ],
      "metadata": {
        "id": "ZAAYuFChTIx2"
      }
    },
    {
      "cell_type": "code",
      "source": [
        "print(\"Confusion Matrix:\\n\", confusion_matrix(y_test, y_pred))\n",
        "print(\"nClassification Report:n\", classification_report(y_test, y_pred))"
      ],
      "metadata": {
        "colab": {
          "base_uri": "https://localhost:8080/"
        },
        "id": "_6S8n_JiSlre",
        "outputId": "3d770696-8741-4694-fc41-9d04780e6f01"
      },
      "execution_count": 21,
      "outputs": [
        {
          "output_type": "stream",
          "name": "stdout",
          "text": [
            "Confusion Matrix:\n",
            " [[10  0  0  0  0  0  0]\n",
            " [ 0  1  0  0  0  0  0]\n",
            " [ 0  0  8  0  1  0  0]\n",
            " [ 0  0  0  3  0  0  0]\n",
            " [ 0  0  1  0  0  0  0]\n",
            " [ 0  0  0  0  0  5  0]\n",
            " [ 0  0  1  0  2  0  0]]\n",
            "nClassification Report:n               precision    recall  f1-score   support\n",
            "\n",
            "       Bream       1.00      1.00      1.00        10\n",
            "      Parkki       1.00      1.00      1.00         1\n",
            "       Perch       0.80      0.89      0.84         9\n",
            "        Pike       1.00      1.00      1.00         3\n",
            "       Roach       0.00      0.00      0.00         1\n",
            "       Smelt       1.00      1.00      1.00         5\n",
            "   Whitefish       0.00      0.00      0.00         3\n",
            "\n",
            "    accuracy                           0.84        32\n",
            "   macro avg       0.69      0.70      0.69        32\n",
            "weighted avg       0.82      0.84      0.83        32\n",
            "\n"
          ]
        },
        {
          "output_type": "stream",
          "name": "stderr",
          "text": [
            "/usr/local/lib/python3.10/dist-packages/sklearn/metrics/_classification.py:1531: UndefinedMetricWarning: Precision is ill-defined and being set to 0.0 in labels with no predicted samples. Use `zero_division` parameter to control this behavior.\n",
            "  _warn_prf(average, modifier, f\"{metric.capitalize()} is\", len(result))\n",
            "/usr/local/lib/python3.10/dist-packages/sklearn/metrics/_classification.py:1531: UndefinedMetricWarning: Precision is ill-defined and being set to 0.0 in labels with no predicted samples. Use `zero_division` parameter to control this behavior.\n",
            "  _warn_prf(average, modifier, f\"{metric.capitalize()} is\", len(result))\n",
            "/usr/local/lib/python3.10/dist-packages/sklearn/metrics/_classification.py:1531: UndefinedMetricWarning: Precision is ill-defined and being set to 0.0 in labels with no predicted samples. Use `zero_division` parameter to control this behavior.\n",
            "  _warn_prf(average, modifier, f\"{metric.capitalize()} is\", len(result))\n"
          ]
        }
      ]
    },
    {
      "cell_type": "markdown",
      "source": [
        "Метод ближайших соседей"
      ],
      "metadata": {
        "id": "mkIor_uATJ9y"
      }
    },
    {
      "cell_type": "code",
      "source": [
        "from sklearn import neighbors, metrics"
      ],
      "metadata": {
        "id": "Es1EpJB3Ssu_"
      },
      "execution_count": 22,
      "outputs": []
    },
    {
      "cell_type": "markdown",
      "source": [
        "Создается объект KNN с 3 ближайшими соседями и модель обучается на всех данных."
      ],
      "metadata": {
        "id": "mbegEhywTL9Z"
      }
    },
    {
      "cell_type": "code",
      "source": [
        "clf = neighbors.KNeighborsClassifier(n_neighbors=3)\n",
        "knn = clf.fit(param,species)"
      ],
      "metadata": {
        "id": "dhkugRYxSvvr"
      },
      "execution_count": 33,
      "outputs": []
    },
    {
      "cell_type": "markdown",
      "source": [
        "Рассчитывается точность модели на всех данных с помощью метода score."
      ],
      "metadata": {
        "id": "-ykfv214TMfH"
      }
    },
    {
      "cell_type": "code",
      "source": [
        "knn.score(param, species)"
      ],
      "metadata": {
        "colab": {
          "base_uri": "https://localhost:8080/"
        },
        "id": "BGHHw2dPSwjc",
        "outputId": "ea579943-121f-4a97-d0de-a47b7b64d027"
      },
      "execution_count": 34,
      "outputs": [
        {
          "output_type": "execute_result",
          "data": {
            "text/plain": [
              "0.7547169811320755"
            ]
          },
          "metadata": {},
          "execution_count": 34
        }
      ]
    },
    {
      "cell_type": "markdown",
      "source": [
        "Выполняется предсказание классов для тестовой выборки"
      ],
      "metadata": {
        "id": "mFiR1BgBTNAw"
      }
    },
    {
      "cell_type": "code",
      "source": [
        "prediction = knn.predict(X_test)"
      ],
      "metadata": {
        "id": "hkh-Fhn5S1au"
      },
      "execution_count": 35,
      "outputs": []
    },
    {
      "cell_type": "markdown",
      "source": [
        "выводится матрица ошибок для KNN."
      ],
      "metadata": {
        "id": "_Rg9HRrtTNfo"
      }
    },
    {
      "cell_type": "code",
      "source": [
        "metrics.confusion_matrix(y_test,prediction)"
      ],
      "metadata": {
        "colab": {
          "base_uri": "https://localhost:8080/"
        },
        "id": "nRyGvOBFS7L8",
        "outputId": "c6c8236b-db97-4442-df90-11bdec0eb727"
      },
      "execution_count": 36,
      "outputs": [
        {
          "output_type": "execute_result",
          "data": {
            "text/plain": [
              "array([[10,  0,  0,  0,  0,  0,  0],\n",
              "       [ 0,  1,  0,  0,  0,  0,  0],\n",
              "       [ 0,  1,  8,  0,  0,  0,  0],\n",
              "       [ 0,  0,  2,  1,  0,  0,  0],\n",
              "       [ 0,  0,  1,  0,  0,  0,  0],\n",
              "       [ 0,  0,  0,  0,  0,  5,  0],\n",
              "       [ 0,  0,  1,  0,  0,  0,  2]])"
            ]
          },
          "metadata": {},
          "execution_count": 36
        }
      ]
    }
  ]
}